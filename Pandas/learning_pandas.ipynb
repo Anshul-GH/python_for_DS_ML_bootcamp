{
 "metadata": {
  "language_info": {
   "codemirror_mode": {
    "name": "ipython",
    "version": 3
   },
   "file_extension": ".py",
   "mimetype": "text/x-python",
   "name": "python",
   "nbconvert_exporter": "python",
   "pygments_lexer": "ipython3",
   "version": "3.8.2-final"
  },
  "orig_nbformat": 2,
  "kernelspec": {
   "name": "python38264bitpy38conda74b30bb8bfed4d658f77b9f4e62a4da3",
   "display_name": "Python 3.8.2 64-bit ('py38': conda)"
  }
 },
 "nbformat": 4,
 "nbformat_minor": 2,
 "cells": [
  {
   "cell_type": "code",
   "execution_count": 1,
   "metadata": {},
   "outputs": [],
   "source": [
    "import numpy as np\n",
    "import pandas as pd"
   ]
  },
  {
   "cell_type": "code",
   "execution_count": 2,
   "metadata": {},
   "outputs": [],
   "source": [
    "label = ['USA', 'Japan', 'Russia', 'Germany']\n",
    "index = [1,2,3,4]"
   ]
  },
  {
   "cell_type": "code",
   "execution_count": 3,
   "metadata": {},
   "outputs": [],
   "source": [
    "ser1 = pd.Series(index,label)"
   ]
  },
  {
   "cell_type": "code",
   "execution_count": 4,
   "metadata": {},
   "outputs": [
    {
     "output_type": "execute_result",
     "data": {
      "text/plain": "USA        1\nJapan      2\nRussia     3\nGermany    4\ndtype: int64"
     },
     "metadata": {},
     "execution_count": 4
    }
   ],
   "source": [
    "ser1"
   ]
  },
  {
   "cell_type": "code",
   "execution_count": 5,
   "metadata": {},
   "outputs": [],
   "source": [
    "label2 = ['USA', 'Japan', 'Italy', 'Germany']\n",
    "index2 = [1,2,5,4]"
   ]
  },
  {
   "cell_type": "code",
   "execution_count": 6,
   "metadata": {},
   "outputs": [],
   "source": [
    "ser2 = pd.Series(index2,label2)"
   ]
  },
  {
   "cell_type": "code",
   "execution_count": 7,
   "metadata": {},
   "outputs": [
    {
     "output_type": "execute_result",
     "data": {
      "text/plain": "USA        1\nJapan      2\nItaly      5\nGermany    4\ndtype: int64"
     },
     "metadata": {},
     "execution_count": 7
    }
   ],
   "source": [
    "ser2"
   ]
  },
  {
   "cell_type": "code",
   "execution_count": 9,
   "metadata": {},
   "outputs": [
    {
     "output_type": "execute_result",
     "data": {
      "text/plain": "3"
     },
     "metadata": {},
     "execution_count": 9
    }
   ],
   "source": [
    "ser1[2]"
   ]
  },
  {
   "cell_type": "code",
   "execution_count": 10,
   "metadata": {},
   "outputs": [
    {
     "output_type": "execute_result",
     "data": {
      "text/plain": "Germany    8.0\nItaly      NaN\nJapan      4.0\nRussia     NaN\nUSA        2.0\ndtype: float64"
     },
     "metadata": {},
     "execution_count": 10
    }
   ],
   "source": [
    "ser1 + ser2"
   ]
  },
  {
   "source": [
    "## DataFrames"
   ],
   "cell_type": "markdown",
   "metadata": {}
  },
  {
   "cell_type": "code",
   "execution_count": 13,
   "metadata": {},
   "outputs": [],
   "source": [
    "# keeping the seed fixed for getting the same results for each run\n",
    "np.random.seed(42)"
   ]
  },
  {
   "cell_type": "code",
   "execution_count": 17,
   "metadata": {},
   "outputs": [],
   "source": [
    "df = pd.DataFrame(data=np.random.randn(5,4), index=['A', 'B', 'C', 'D', 'E'], columns=['W', 'X', 'Y', 'Z'])\n",
    "\n",
    "# np.random.randn(5,4)"
   ]
  },
  {
   "cell_type": "code",
   "execution_count": 18,
   "metadata": {},
   "outputs": [
    {
     "output_type": "execute_result",
     "data": {
      "text/plain": "          W         X         Y         Z\nA  0.738467  0.171368 -0.115648 -0.301104\nB -1.478522 -0.719844 -0.460639  1.057122\nC  0.343618 -1.763040  0.324084 -0.385082\nD -0.676922  0.611676  1.031000  0.931280\nE -0.839218 -0.309212  0.331263  0.975545",
      "text/html": "<div>\n<style scoped>\n    .dataframe tbody tr th:only-of-type {\n        vertical-align: middle;\n    }\n\n    .dataframe tbody tr th {\n        vertical-align: top;\n    }\n\n    .dataframe thead th {\n        text-align: right;\n    }\n</style>\n<table border=\"1\" class=\"dataframe\">\n  <thead>\n    <tr style=\"text-align: right;\">\n      <th></th>\n      <th>W</th>\n      <th>X</th>\n      <th>Y</th>\n      <th>Z</th>\n    </tr>\n  </thead>\n  <tbody>\n    <tr>\n      <th>A</th>\n      <td>0.738467</td>\n      <td>0.171368</td>\n      <td>-0.115648</td>\n      <td>-0.301104</td>\n    </tr>\n    <tr>\n      <th>B</th>\n      <td>-1.478522</td>\n      <td>-0.719844</td>\n      <td>-0.460639</td>\n      <td>1.057122</td>\n    </tr>\n    <tr>\n      <th>C</th>\n      <td>0.343618</td>\n      <td>-1.763040</td>\n      <td>0.324084</td>\n      <td>-0.385082</td>\n    </tr>\n    <tr>\n      <th>D</th>\n      <td>-0.676922</td>\n      <td>0.611676</td>\n      <td>1.031000</td>\n      <td>0.931280</td>\n    </tr>\n    <tr>\n      <th>E</th>\n      <td>-0.839218</td>\n      <td>-0.309212</td>\n      <td>0.331263</td>\n      <td>0.975545</td>\n    </tr>\n  </tbody>\n</table>\n</div>"
     },
     "metadata": {},
     "execution_count": 18
    }
   ],
   "source": [
    "df"
   ]
  },
  {
   "cell_type": "code",
   "execution_count": 19,
   "metadata": {},
   "outputs": [
    {
     "output_type": "execute_result",
     "data": {
      "text/plain": "A    0.738467\nB   -1.478522\nC    0.343618\nD   -0.676922\nE   -0.839218\nName: W, dtype: float64"
     },
     "metadata": {},
     "execution_count": 19
    }
   ],
   "source": [
    "df['W']"
   ]
  },
  {
   "cell_type": "code",
   "execution_count": 20,
   "metadata": {},
   "outputs": [
    {
     "output_type": "execute_result",
     "data": {
      "text/plain": "pandas.core.series.Series"
     },
     "metadata": {},
     "execution_count": 20
    }
   ],
   "source": [
    "type(df['W'])"
   ]
  },
  {
   "source": [
    "## Conditional Selection"
   ],
   "cell_type": "markdown",
   "metadata": {}
  },
  {
   "cell_type": "code",
   "execution_count": 23,
   "metadata": {},
   "outputs": [
    {
     "output_type": "execute_result",
     "data": {
      "text/plain": "          W         X         Y         Z\nA  0.738467  0.171368 -0.115648 -0.301104\nB -1.478522 -0.719844 -0.460639  1.057122\nC  0.343618 -1.763040  0.324084 -0.385082\nD -0.676922  0.611676  1.031000  0.931280\nE -0.839218 -0.309212  0.331263  0.975545",
      "text/html": "<div>\n<style scoped>\n    .dataframe tbody tr th:only-of-type {\n        vertical-align: middle;\n    }\n\n    .dataframe tbody tr th {\n        vertical-align: top;\n    }\n\n    .dataframe thead th {\n        text-align: right;\n    }\n</style>\n<table border=\"1\" class=\"dataframe\">\n  <thead>\n    <tr style=\"text-align: right;\">\n      <th></th>\n      <th>W</th>\n      <th>X</th>\n      <th>Y</th>\n      <th>Z</th>\n    </tr>\n  </thead>\n  <tbody>\n    <tr>\n      <th>A</th>\n      <td>0.738467</td>\n      <td>0.171368</td>\n      <td>-0.115648</td>\n      <td>-0.301104</td>\n    </tr>\n    <tr>\n      <th>B</th>\n      <td>-1.478522</td>\n      <td>-0.719844</td>\n      <td>-0.460639</td>\n      <td>1.057122</td>\n    </tr>\n    <tr>\n      <th>C</th>\n      <td>0.343618</td>\n      <td>-1.763040</td>\n      <td>0.324084</td>\n      <td>-0.385082</td>\n    </tr>\n    <tr>\n      <th>D</th>\n      <td>-0.676922</td>\n      <td>0.611676</td>\n      <td>1.031000</td>\n      <td>0.931280</td>\n    </tr>\n    <tr>\n      <th>E</th>\n      <td>-0.839218</td>\n      <td>-0.309212</td>\n      <td>0.331263</td>\n      <td>0.975545</td>\n    </tr>\n  </tbody>\n</table>\n</div>"
     },
     "metadata": {},
     "execution_count": 23
    }
   ],
   "source": [
    "df"
   ]
  },
  {
   "cell_type": "code",
   "execution_count": 24,
   "metadata": {},
   "outputs": [],
   "source": [
    "booldf = df > 0"
   ]
  },
  {
   "cell_type": "code",
   "execution_count": 25,
   "metadata": {},
   "outputs": [
    {
     "output_type": "execute_result",
     "data": {
      "text/plain": "          W         X         Y         Z\nA  0.738467  0.171368       NaN       NaN\nB       NaN       NaN       NaN  1.057122\nC  0.343618       NaN  0.324084       NaN\nD       NaN  0.611676  1.031000  0.931280\nE       NaN       NaN  0.331263  0.975545",
      "text/html": "<div>\n<style scoped>\n    .dataframe tbody tr th:only-of-type {\n        vertical-align: middle;\n    }\n\n    .dataframe tbody tr th {\n        vertical-align: top;\n    }\n\n    .dataframe thead th {\n        text-align: right;\n    }\n</style>\n<table border=\"1\" class=\"dataframe\">\n  <thead>\n    <tr style=\"text-align: right;\">\n      <th></th>\n      <th>W</th>\n      <th>X</th>\n      <th>Y</th>\n      <th>Z</th>\n    </tr>\n  </thead>\n  <tbody>\n    <tr>\n      <th>A</th>\n      <td>0.738467</td>\n      <td>0.171368</td>\n      <td>NaN</td>\n      <td>NaN</td>\n    </tr>\n    <tr>\n      <th>B</th>\n      <td>NaN</td>\n      <td>NaN</td>\n      <td>NaN</td>\n      <td>1.057122</td>\n    </tr>\n    <tr>\n      <th>C</th>\n      <td>0.343618</td>\n      <td>NaN</td>\n      <td>0.324084</td>\n      <td>NaN</td>\n    </tr>\n    <tr>\n      <th>D</th>\n      <td>NaN</td>\n      <td>0.611676</td>\n      <td>1.031000</td>\n      <td>0.931280</td>\n    </tr>\n    <tr>\n      <th>E</th>\n      <td>NaN</td>\n      <td>NaN</td>\n      <td>0.331263</td>\n      <td>0.975545</td>\n    </tr>\n  </tbody>\n</table>\n</div>"
     },
     "metadata": {},
     "execution_count": 25
    }
   ],
   "source": [
    "df[booldf]"
   ]
  },
  {
   "cell_type": "code",
   "execution_count": null,
   "metadata": {},
   "outputs": [],
   "source": []
  }
 ]
}